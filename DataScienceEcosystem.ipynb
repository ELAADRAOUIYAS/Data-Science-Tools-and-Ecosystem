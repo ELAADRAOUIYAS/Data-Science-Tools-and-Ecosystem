{
  "nbformat": 4,
  "nbformat_minor": 0,
  "metadata": {
    "colab": {
      "provenance": []
    },
    "kernelspec": {
      "name": "python3",
      "display_name": "Python 3"
    },
    "language_info": {
      "name": "python"
    }
  },
  "cells": [
    {
      "cell_type": "markdown",
      "source": [
        "# Data Science Tools and Ecosystem\n"
      ],
      "metadata": {
        "id": "ZKi28Brskfm_"
      }
    },
    {
      "cell_type": "markdown",
      "source": [
        "### In this notebook, Data Science Tools and Ecosystem are summarized."
      ],
      "metadata": {
        "id": "rNsCnpoBlQ0V"
      }
    },
    {
      "cell_type": "markdown",
      "source": [
        "**Objectives**"
      ],
      "metadata": {
        "id": "TMM61rFl3uCu"
      }
    },
    {
      "cell_type": "markdown",
      "source": [
        "* Create markdown cell\n",
        "* Create code cell\n",
        "* create markdown cell with table data\n"
      ],
      "metadata": {
        "id": "5Mvmvy5m3y4-"
      }
    },
    {
      "cell_type": "markdown",
      "source": [
        "###Some of the popular languages that Data Scientists use are:\n",
        "1. R\n",
        "2. Python\n",
        "3. Sql"
      ],
      "metadata": {
        "id": "-WygQznRphJx"
      }
    },
    {
      "cell_type": "markdown",
      "source": [
        "### Some of the commonly used libraries used by Data Scientists include:\n",
        "1. Numpy\n",
        "2. Pandas\n",
        "3. Matplotib"
      ],
      "metadata": {
        "id": "7QpJWB0qqLRR"
      }
    },
    {
      "cell_type": "markdown",
      "source": [
        "| Data Science Tools |\n",
        "| ------------------ |\n",
        "| Python             |\n",
        "| R                  |\n",
        "| Julia              |\n"
      ],
      "metadata": {
        "id": "R9ncVEkUwAma"
      }
    },
    {
      "cell_type": "markdown",
      "source": [
        "### Below are a few examples of evaluating arithmetic expressions in Python"
      ],
      "metadata": {
        "id": "SjwvWkInxqcE"
      }
    },
    {
      "cell_type": "markdown",
      "source": [
        "This a simple arithmetic expression to mutiply then add integers"
      ],
      "metadata": {
        "id": "sd0lGw1-y8Op"
      }
    },
    {
      "cell_type": "code",
      "source": [
        "(3*4)+5"
      ],
      "metadata": {
        "colab": {
          "base_uri": "https://localhost:8080/"
        },
        "id": "kob8QPOAzFik",
        "outputId": "3c7b34eb-7c5a-46d5-bcba-859e5feaf6d3"
      },
      "execution_count": 1,
      "outputs": [
        {
          "output_type": "execute_result",
          "data": {
            "text/plain": [
              "17"
            ]
          },
          "metadata": {},
          "execution_count": 1
        }
      ]
    },
    {
      "cell_type": "markdown",
      "source": [
        "This will convert 200 minutes to hours by diving by 60"
      ],
      "metadata": {
        "id": "QGubzIfz0-Dw"
      }
    },
    {
      "cell_type": "code",
      "source": [
        "minutes=200\n",
        "hours = minutes / 60\n",
        "hours\n"
      ],
      "metadata": {
        "colab": {
          "base_uri": "https://localhost:8080/"
        },
        "id": "QhH_O1q501zw",
        "outputId": "d85e4955-3dfd-4464-fd5e-28865fdcb2a1"
      },
      "execution_count": 2,
      "outputs": [
        {
          "output_type": "execute_result",
          "data": {
            "text/plain": [
              "3.3333333333333335"
            ]
          },
          "metadata": {},
          "execution_count": 2
        }
      ]
    },
    {
      "cell_type": "markdown",
      "source": [
        "## Author :\n",
        "Elaadraoui Yassine"
      ],
      "metadata": {
        "id": "HsIX-1IW4M8d"
      }
    }
  ]
}